{
 "cells": [
  {
   "cell_type": "markdown",
   "metadata": {},
   "source": [
    "**Aplicação dos algoritmos de aprendizagem de máquina na predição de espessuras e localização de incrustações**"
   ]
  },
  {
   "cell_type": "markdown",
   "metadata": {},
   "source": [
    "**Importando as bibliotecas**"
   ]
  },
  {
   "cell_type": "code",
   "execution_count": 1,
   "metadata": {},
   "outputs": [],
   "source": [
    "import pandas as pd\n",
    "import numpy as np\n",
    "import matplotlib.pyplot as plt\n",
    "from keras.models import Sequential\n",
    "from keras.layers import Dense, Dropout\n",
    "from keras.utils import np_utils"
   ]
  },
  {
   "cell_type": "code",
   "execution_count": 2,
   "metadata": {},
   "outputs": [],
   "source": [
    "df = pd.read_csv('dadoraiz.csv')"
   ]
  },
  {
   "cell_type": "code",
   "execution_count": 3,
   "metadata": {},
   "outputs": [
    {
     "data": {
      "text/html": [
       "<div>\n",
       "<style scoped>\n",
       "    .dataframe tbody tr th:only-of-type {\n",
       "        vertical-align: middle;\n",
       "    }\n",
       "\n",
       "    .dataframe tbody tr th {\n",
       "        vertical-align: top;\n",
       "    }\n",
       "\n",
       "    .dataframe thead th {\n",
       "        text-align: right;\n",
       "    }\n",
       "</style>\n",
       "<table border=\"1\" class=\"dataframe\">\n",
       "  <thead>\n",
       "    <tr style=\"text-align: right;\">\n",
       "      <th></th>\n",
       "      <th>Tipo</th>\n",
       "      <th>INC</th>\n",
       "      <th>D1-670</th>\n",
       "      <th>D2-20</th>\n",
       "      <th>D2-30</th>\n",
       "      <th>D2-40</th>\n",
       "      <th>D2-50</th>\n",
       "      <th>D2-60</th>\n",
       "      <th>D2-70</th>\n",
       "      <th>D2-80</th>\n",
       "      <th>...</th>\n",
       "      <th>D3-580</th>\n",
       "      <th>D3-590</th>\n",
       "      <th>D3-600</th>\n",
       "      <th>D3-610</th>\n",
       "      <th>D3-620</th>\n",
       "      <th>D3-630</th>\n",
       "      <th>D3-640</th>\n",
       "      <th>D3-650</th>\n",
       "      <th>D3-660</th>\n",
       "      <th>D3-670</th>\n",
       "    </tr>\n",
       "  </thead>\n",
       "  <tbody>\n",
       "    <tr>\n",
       "      <th>0</th>\n",
       "      <td>0</td>\n",
       "      <td>0.50</td>\n",
       "      <td>0.000215</td>\n",
       "      <td>1.436200e-08</td>\n",
       "      <td>1.686700e-08</td>\n",
       "      <td>1.786900e-08</td>\n",
       "      <td>1.703400e-08</td>\n",
       "      <td>1.803600e-08</td>\n",
       "      <td>1.670000e-08</td>\n",
       "      <td>1.920500e-08</td>\n",
       "      <td>...</td>\n",
       "      <td>0</td>\n",
       "      <td>0</td>\n",
       "      <td>0</td>\n",
       "      <td>0</td>\n",
       "      <td>0</td>\n",
       "      <td>0</td>\n",
       "      <td>0</td>\n",
       "      <td>0</td>\n",
       "      <td>0</td>\n",
       "      <td>0</td>\n",
       "    </tr>\n",
       "    <tr>\n",
       "      <th>1</th>\n",
       "      <td>0</td>\n",
       "      <td>0.51</td>\n",
       "      <td>0.000214</td>\n",
       "      <td>1.402800e-08</td>\n",
       "      <td>1.686700e-08</td>\n",
       "      <td>1.786900e-08</td>\n",
       "      <td>1.703400e-08</td>\n",
       "      <td>1.803600e-08</td>\n",
       "      <td>1.653300e-08</td>\n",
       "      <td>1.920500e-08</td>\n",
       "      <td>...</td>\n",
       "      <td>0</td>\n",
       "      <td>0</td>\n",
       "      <td>0</td>\n",
       "      <td>0</td>\n",
       "      <td>0</td>\n",
       "      <td>0</td>\n",
       "      <td>0</td>\n",
       "      <td>0</td>\n",
       "      <td>0</td>\n",
       "      <td>0</td>\n",
       "    </tr>\n",
       "    <tr>\n",
       "      <th>2</th>\n",
       "      <td>0</td>\n",
       "      <td>0.52</td>\n",
       "      <td>0.000214</td>\n",
       "      <td>1.369400e-08</td>\n",
       "      <td>1.670000e-08</td>\n",
       "      <td>1.770200e-08</td>\n",
       "      <td>1.703400e-08</td>\n",
       "      <td>1.786900e-08</td>\n",
       "      <td>1.686700e-08</td>\n",
       "      <td>1.870400e-08</td>\n",
       "      <td>...</td>\n",
       "      <td>0</td>\n",
       "      <td>0</td>\n",
       "      <td>0</td>\n",
       "      <td>0</td>\n",
       "      <td>0</td>\n",
       "      <td>0</td>\n",
       "      <td>0</td>\n",
       "      <td>0</td>\n",
       "      <td>0</td>\n",
       "      <td>0</td>\n",
       "    </tr>\n",
       "    <tr>\n",
       "      <th>3</th>\n",
       "      <td>0</td>\n",
       "      <td>0.53</td>\n",
       "      <td>0.000213</td>\n",
       "      <td>1.369400e-08</td>\n",
       "      <td>1.636600e-08</td>\n",
       "      <td>1.770200e-08</td>\n",
       "      <td>1.670000e-08</td>\n",
       "      <td>1.720100e-08</td>\n",
       "      <td>1.736800e-08</td>\n",
       "      <td>1.837000e-08</td>\n",
       "      <td>...</td>\n",
       "      <td>0</td>\n",
       "      <td>0</td>\n",
       "      <td>0</td>\n",
       "      <td>0</td>\n",
       "      <td>0</td>\n",
       "      <td>0</td>\n",
       "      <td>0</td>\n",
       "      <td>0</td>\n",
       "      <td>0</td>\n",
       "      <td>0</td>\n",
       "    </tr>\n",
       "    <tr>\n",
       "      <th>4</th>\n",
       "      <td>0</td>\n",
       "      <td>0.54</td>\n",
       "      <td>0.000212</td>\n",
       "      <td>1.352700e-08</td>\n",
       "      <td>1.653300e-08</td>\n",
       "      <td>1.753500e-08</td>\n",
       "      <td>1.653300e-08</td>\n",
       "      <td>1.753500e-08</td>\n",
       "      <td>1.670000e-08</td>\n",
       "      <td>1.803600e-08</td>\n",
       "      <td>...</td>\n",
       "      <td>0</td>\n",
       "      <td>0</td>\n",
       "      <td>0</td>\n",
       "      <td>0</td>\n",
       "      <td>0</td>\n",
       "      <td>0</td>\n",
       "      <td>0</td>\n",
       "      <td>0</td>\n",
       "      <td>0</td>\n",
       "      <td>0</td>\n",
       "    </tr>\n",
       "  </tbody>\n",
       "</table>\n",
       "<p>5 rows × 135 columns</p>\n",
       "</div>"
      ],
      "text/plain": [
       "   Tipo   INC    D1-670         D2-20         D2-30         D2-40  \\\n",
       "0     0  0.50  0.000215  1.436200e-08  1.686700e-08  1.786900e-08   \n",
       "1     0  0.51  0.000214  1.402800e-08  1.686700e-08  1.786900e-08   \n",
       "2     0  0.52  0.000214  1.369400e-08  1.670000e-08  1.770200e-08   \n",
       "3     0  0.53  0.000213  1.369400e-08  1.636600e-08  1.770200e-08   \n",
       "4     0  0.54  0.000212  1.352700e-08  1.653300e-08  1.753500e-08   \n",
       "\n",
       "          D2-50         D2-60         D2-70         D2-80  ...  D3-580  \\\n",
       "0  1.703400e-08  1.803600e-08  1.670000e-08  1.920500e-08  ...       0   \n",
       "1  1.703400e-08  1.803600e-08  1.653300e-08  1.920500e-08  ...       0   \n",
       "2  1.703400e-08  1.786900e-08  1.686700e-08  1.870400e-08  ...       0   \n",
       "3  1.670000e-08  1.720100e-08  1.736800e-08  1.837000e-08  ...       0   \n",
       "4  1.653300e-08  1.753500e-08  1.670000e-08  1.803600e-08  ...       0   \n",
       "\n",
       "   D3-590  D3-600  D3-610  D3-620  D3-630  D3-640  D3-650  D3-660  D3-670  \n",
       "0       0       0       0       0       0       0       0       0       0  \n",
       "1       0       0       0       0       0       0       0       0       0  \n",
       "2       0       0       0       0       0       0       0       0       0  \n",
       "3       0       0       0       0       0       0       0       0       0  \n",
       "4       0       0       0       0       0       0       0       0       0  \n",
       "\n",
       "[5 rows x 135 columns]"
      ]
     },
     "execution_count": 3,
     "metadata": {},
     "output_type": "execute_result"
    }
   ],
   "source": [
    "df.head()"
   ]
  },
  {
   "cell_type": "code",
   "execution_count": 4,
   "metadata": {},
   "outputs": [
    {
     "name": "stdout",
     "output_type": "stream",
     "text": [
      "<class 'pandas.core.frame.DataFrame'>\n",
      "RangeIndex: 5204 entries, 0 to 5203\n",
      "Columns: 135 entries, Tipo to D3-670\n",
      "dtypes: float64(114), int64(21)\n",
      "memory usage: 5.4 MB\n"
     ]
    }
   ],
   "source": [
    "df.info()"
   ]
  },
  {
   "cell_type": "code",
   "execution_count": 5,
   "metadata": {},
   "outputs": [
    {
     "data": {
      "text/html": [
       "<div>\n",
       "<style scoped>\n",
       "    .dataframe tbody tr th:only-of-type {\n",
       "        vertical-align: middle;\n",
       "    }\n",
       "\n",
       "    .dataframe tbody tr th {\n",
       "        vertical-align: top;\n",
       "    }\n",
       "\n",
       "    .dataframe thead th {\n",
       "        text-align: right;\n",
       "    }\n",
       "</style>\n",
       "<table border=\"1\" class=\"dataframe\">\n",
       "  <thead>\n",
       "    <tr style=\"text-align: right;\">\n",
       "      <th></th>\n",
       "      <th>Tipo</th>\n",
       "      <th>INC</th>\n",
       "      <th>D1-670</th>\n",
       "      <th>D2-20</th>\n",
       "      <th>D2-30</th>\n",
       "      <th>D2-40</th>\n",
       "      <th>D2-50</th>\n",
       "      <th>D2-60</th>\n",
       "      <th>D2-70</th>\n",
       "      <th>D2-80</th>\n",
       "      <th>...</th>\n",
       "      <th>D3-580</th>\n",
       "      <th>D3-590</th>\n",
       "      <th>D3-600</th>\n",
       "      <th>D3-610</th>\n",
       "      <th>D3-620</th>\n",
       "      <th>D3-630</th>\n",
       "      <th>D3-640</th>\n",
       "      <th>D3-650</th>\n",
       "      <th>D3-660</th>\n",
       "      <th>D3-670</th>\n",
       "    </tr>\n",
       "  </thead>\n",
       "  <tbody>\n",
       "    <tr>\n",
       "      <th>count</th>\n",
       "      <td>5204.000000</td>\n",
       "      <td>5204.000000</td>\n",
       "      <td>5204.000000</td>\n",
       "      <td>5.204000e+03</td>\n",
       "      <td>5.204000e+03</td>\n",
       "      <td>5.204000e+03</td>\n",
       "      <td>5.204000e+03</td>\n",
       "      <td>5.204000e+03</td>\n",
       "      <td>5.204000e+03</td>\n",
       "      <td>5.204000e+03</td>\n",
       "      <td>...</td>\n",
       "      <td>5204.0</td>\n",
       "      <td>5204.0</td>\n",
       "      <td>5204.0</td>\n",
       "      <td>5204.0</td>\n",
       "      <td>5204.0</td>\n",
       "      <td>5204.0</td>\n",
       "      <td>5204.0</td>\n",
       "      <td>5204.0</td>\n",
       "      <td>5204.0</td>\n",
       "      <td>5204.0</td>\n",
       "    </tr>\n",
       "    <tr>\n",
       "      <th>mean</th>\n",
       "      <td>45.000000</td>\n",
       "      <td>7.000000</td>\n",
       "      <td>0.000014</td>\n",
       "      <td>5.643631e-09</td>\n",
       "      <td>5.447557e-09</td>\n",
       "      <td>5.010995e-09</td>\n",
       "      <td>5.042251e-09</td>\n",
       "      <td>4.938598e-09</td>\n",
       "      <td>4.983236e-09</td>\n",
       "      <td>5.158805e-09</td>\n",
       "      <td>...</td>\n",
       "      <td>0.0</td>\n",
       "      <td>0.0</td>\n",
       "      <td>0.0</td>\n",
       "      <td>0.0</td>\n",
       "      <td>0.0</td>\n",
       "      <td>0.0</td>\n",
       "      <td>0.0</td>\n",
       "      <td>0.0</td>\n",
       "      <td>0.0</td>\n",
       "      <td>0.0</td>\n",
       "    </tr>\n",
       "    <tr>\n",
       "      <th>std</th>\n",
       "      <td>33.544243</td>\n",
       "      <td>3.756023</td>\n",
       "      <td>0.000030</td>\n",
       "      <td>2.744854e-09</td>\n",
       "      <td>3.036401e-09</td>\n",
       "      <td>2.986770e-09</td>\n",
       "      <td>2.914204e-09</td>\n",
       "      <td>2.868978e-09</td>\n",
       "      <td>2.709792e-09</td>\n",
       "      <td>3.137907e-09</td>\n",
       "      <td>...</td>\n",
       "      <td>0.0</td>\n",
       "      <td>0.0</td>\n",
       "      <td>0.0</td>\n",
       "      <td>0.0</td>\n",
       "      <td>0.0</td>\n",
       "      <td>0.0</td>\n",
       "      <td>0.0</td>\n",
       "      <td>0.0</td>\n",
       "      <td>0.0</td>\n",
       "      <td>0.0</td>\n",
       "    </tr>\n",
       "    <tr>\n",
       "      <th>min</th>\n",
       "      <td>0.000000</td>\n",
       "      <td>0.500000</td>\n",
       "      <td>0.000001</td>\n",
       "      <td>1.670000e-09</td>\n",
       "      <td>8.350000e-10</td>\n",
       "      <td>2.004000e-09</td>\n",
       "      <td>1.670000e-09</td>\n",
       "      <td>2.004000e-09</td>\n",
       "      <td>1.670000e-09</td>\n",
       "      <td>1.670000e-09</td>\n",
       "      <td>...</td>\n",
       "      <td>0.0</td>\n",
       "      <td>0.0</td>\n",
       "      <td>0.0</td>\n",
       "      <td>0.0</td>\n",
       "      <td>0.0</td>\n",
       "      <td>0.0</td>\n",
       "      <td>0.0</td>\n",
       "      <td>0.0</td>\n",
       "      <td>0.0</td>\n",
       "      <td>0.0</td>\n",
       "    </tr>\n",
       "    <tr>\n",
       "      <th>25%</th>\n",
       "      <td>22.500000</td>\n",
       "      <td>3.750000</td>\n",
       "      <td>0.000001</td>\n",
       "      <td>3.841000e-09</td>\n",
       "      <td>3.173000e-09</td>\n",
       "      <td>3.006000e-09</td>\n",
       "      <td>3.173000e-09</td>\n",
       "      <td>2.839000e-09</td>\n",
       "      <td>3.006000e-09</td>\n",
       "      <td>3.006000e-09</td>\n",
       "      <td>...</td>\n",
       "      <td>0.0</td>\n",
       "      <td>0.0</td>\n",
       "      <td>0.0</td>\n",
       "      <td>0.0</td>\n",
       "      <td>0.0</td>\n",
       "      <td>0.0</td>\n",
       "      <td>0.0</td>\n",
       "      <td>0.0</td>\n",
       "      <td>0.0</td>\n",
       "      <td>0.0</td>\n",
       "    </tr>\n",
       "    <tr>\n",
       "      <th>50%</th>\n",
       "      <td>45.000000</td>\n",
       "      <td>7.000000</td>\n",
       "      <td>0.000004</td>\n",
       "      <td>4.342000e-09</td>\n",
       "      <td>4.843000e-09</td>\n",
       "      <td>3.507000e-09</td>\n",
       "      <td>3.674000e-09</td>\n",
       "      <td>3.507000e-09</td>\n",
       "      <td>3.507000e-09</td>\n",
       "      <td>3.340000e-09</td>\n",
       "      <td>...</td>\n",
       "      <td>0.0</td>\n",
       "      <td>0.0</td>\n",
       "      <td>0.0</td>\n",
       "      <td>0.0</td>\n",
       "      <td>0.0</td>\n",
       "      <td>0.0</td>\n",
       "      <td>0.0</td>\n",
       "      <td>0.0</td>\n",
       "      <td>0.0</td>\n",
       "      <td>0.0</td>\n",
       "    </tr>\n",
       "    <tr>\n",
       "      <th>75%</th>\n",
       "      <td>67.500000</td>\n",
       "      <td>10.250000</td>\n",
       "      <td>0.000014</td>\n",
       "      <td>7.014000e-09</td>\n",
       "      <td>6.680000e-09</td>\n",
       "      <td>5.678000e-09</td>\n",
       "      <td>5.678000e-09</td>\n",
       "      <td>6.012000e-09</td>\n",
       "      <td>6.012000e-09</td>\n",
       "      <td>7.014000e-09</td>\n",
       "      <td>...</td>\n",
       "      <td>0.0</td>\n",
       "      <td>0.0</td>\n",
       "      <td>0.0</td>\n",
       "      <td>0.0</td>\n",
       "      <td>0.0</td>\n",
       "      <td>0.0</td>\n",
       "      <td>0.0</td>\n",
       "      <td>0.0</td>\n",
       "      <td>0.0</td>\n",
       "      <td>0.0</td>\n",
       "    </tr>\n",
       "    <tr>\n",
       "      <th>max</th>\n",
       "      <td>90.000000</td>\n",
       "      <td>13.500000</td>\n",
       "      <td>0.000215</td>\n",
       "      <td>1.536400e-08</td>\n",
       "      <td>1.686700e-08</td>\n",
       "      <td>1.786900e-08</td>\n",
       "      <td>1.703400e-08</td>\n",
       "      <td>1.820300e-08</td>\n",
       "      <td>1.736800e-08</td>\n",
       "      <td>1.920500e-08</td>\n",
       "      <td>...</td>\n",
       "      <td>0.0</td>\n",
       "      <td>0.0</td>\n",
       "      <td>0.0</td>\n",
       "      <td>0.0</td>\n",
       "      <td>0.0</td>\n",
       "      <td>0.0</td>\n",
       "      <td>0.0</td>\n",
       "      <td>0.0</td>\n",
       "      <td>0.0</td>\n",
       "      <td>0.0</td>\n",
       "    </tr>\n",
       "  </tbody>\n",
       "</table>\n",
       "<p>8 rows × 135 columns</p>\n",
       "</div>"
      ],
      "text/plain": [
       "              Tipo          INC       D1-670         D2-20         D2-30  \\\n",
       "count  5204.000000  5204.000000  5204.000000  5.204000e+03  5.204000e+03   \n",
       "mean     45.000000     7.000000     0.000014  5.643631e-09  5.447557e-09   \n",
       "std      33.544243     3.756023     0.000030  2.744854e-09  3.036401e-09   \n",
       "min       0.000000     0.500000     0.000001  1.670000e-09  8.350000e-10   \n",
       "25%      22.500000     3.750000     0.000001  3.841000e-09  3.173000e-09   \n",
       "50%      45.000000     7.000000     0.000004  4.342000e-09  4.843000e-09   \n",
       "75%      67.500000    10.250000     0.000014  7.014000e-09  6.680000e-09   \n",
       "max      90.000000    13.500000     0.000215  1.536400e-08  1.686700e-08   \n",
       "\n",
       "              D2-40         D2-50         D2-60         D2-70         D2-80  \\\n",
       "count  5.204000e+03  5.204000e+03  5.204000e+03  5.204000e+03  5.204000e+03   \n",
       "mean   5.010995e-09  5.042251e-09  4.938598e-09  4.983236e-09  5.158805e-09   \n",
       "std    2.986770e-09  2.914204e-09  2.868978e-09  2.709792e-09  3.137907e-09   \n",
       "min    2.004000e-09  1.670000e-09  2.004000e-09  1.670000e-09  1.670000e-09   \n",
       "25%    3.006000e-09  3.173000e-09  2.839000e-09  3.006000e-09  3.006000e-09   \n",
       "50%    3.507000e-09  3.674000e-09  3.507000e-09  3.507000e-09  3.340000e-09   \n",
       "75%    5.678000e-09  5.678000e-09  6.012000e-09  6.012000e-09  7.014000e-09   \n",
       "max    1.786900e-08  1.703400e-08  1.820300e-08  1.736800e-08  1.920500e-08   \n",
       "\n",
       "       ...  D3-580  D3-590  D3-600  D3-610  D3-620  D3-630  D3-640  D3-650  \\\n",
       "count  ...  5204.0  5204.0  5204.0  5204.0  5204.0  5204.0  5204.0  5204.0   \n",
       "mean   ...     0.0     0.0     0.0     0.0     0.0     0.0     0.0     0.0   \n",
       "std    ...     0.0     0.0     0.0     0.0     0.0     0.0     0.0     0.0   \n",
       "min    ...     0.0     0.0     0.0     0.0     0.0     0.0     0.0     0.0   \n",
       "25%    ...     0.0     0.0     0.0     0.0     0.0     0.0     0.0     0.0   \n",
       "50%    ...     0.0     0.0     0.0     0.0     0.0     0.0     0.0     0.0   \n",
       "75%    ...     0.0     0.0     0.0     0.0     0.0     0.0     0.0     0.0   \n",
       "max    ...     0.0     0.0     0.0     0.0     0.0     0.0     0.0     0.0   \n",
       "\n",
       "       D3-660  D3-670  \n",
       "count  5204.0  5204.0  \n",
       "mean      0.0     0.0  \n",
       "std       0.0     0.0  \n",
       "min       0.0     0.0  \n",
       "25%       0.0     0.0  \n",
       "50%       0.0     0.0  \n",
       "75%       0.0     0.0  \n",
       "max       0.0     0.0  \n",
       "\n",
       "[8 rows x 135 columns]"
      ]
     },
     "execution_count": 5,
     "metadata": {},
     "output_type": "execute_result"
    }
   ],
   "source": [
    "df.describe()"
   ]
  },
  {
   "cell_type": "markdown",
   "metadata": {},
   "source": [
    "**Visualizando os dados**"
   ]
  },
  {
   "cell_type": "code",
   "execution_count": 6,
   "metadata": {},
   "outputs": [],
   "source": [
    "import seaborn as sns\n",
    "%matplotlib inline"
   ]
  },
  {
   "cell_type": "code",
   "execution_count": 7,
   "metadata": {},
   "outputs": [
    {
     "data": {
      "text/plain": [
       "<seaborn.axisgrid.JointGrid at 0x1f6d6a89490>"
      ]
     },
     "execution_count": 7,
     "metadata": {},
     "output_type": "execute_result"
    },
    {
     "data": {
      "image/png": "[encoded data removed]",
      "text/plain": [
       "<Figure size 432x432 with 3 Axes>"
      ]
     },
     "metadata": {
      "needs_background": "light"
     },
     "output_type": "display_data"
    }
   ],
   "source": [
    "sns.jointplot(x='Tipo',y='INC',data=df)"
   ]
  },
  {
   "cell_type": "code",
   "execution_count": 8,
   "metadata": {},
   "outputs": [
    {
     "data": {
      "text/plain": [
       "<AxesSubplot:xlabel='Tipo', ylabel='count'>"
      ]
     },
     "execution_count": 8,
     "metadata": {},
     "output_type": "execute_result"
    },
    {
     "data": {
      "image/png": "[encoded data removed]",
      "text/plain": [
       "<Figure size 432x288 with 1 Axes>"
      ]
     },
     "metadata": {
      "needs_background": "light"
     },
     "output_type": "display_data"
    }
   ],
   "source": [
    "sns.countplot(x='Tipo',data=df)"
   ]
  },
  {
   "cell_type": "code",
   "execution_count": 9,
   "metadata": {},
   "outputs": [],
   "source": [
    "import matplotlib.pyplot as plt"
   ]
  },
  {
   "cell_type": "code",
   "execution_count": 10,
   "metadata": {},
   "outputs": [
    {
     "data": {
      "text/plain": [
       "<seaborn.axisgrid.FacetGrid at 0x1f6d9dc4a60>"
      ]
     },
     "execution_count": 10,
     "metadata": {},
     "output_type": "execute_result"
    },
    {
     "data": {
      "image/png": "[encoded data removed]",
      "text/plain": [
       "<Figure size 864x216 with 4 Axes>"
      ]
     },
     "metadata": {
      "needs_background": "light"
     },
     "output_type": "display_data"
    }
   ],
   "source": [
    "g = sns.FacetGrid(data=df,col='Tipo', palette='rainbow')\n",
    "g.map(plt.hist,'INC')"
   ]
  },
  {
   "cell_type": "markdown",
   "metadata": {},
   "source": [
    "**Dividindo as colunas em dados previsores e alvo**"
   ]
  },
  {
   "cell_type": "code",
   "execution_count": 11,
   "metadata": {},
   "outputs": [],
   "source": [
    "x = df.iloc[:, 2:135].values\n",
    "y = df.iloc[:, [0,1]].values"
   ]
  },
  {
   "cell_type": "code",
   "execution_count": 12,
   "metadata": {},
   "outputs": [],
   "source": [
    "x_df = pd.DataFrame(x)\n",
    "y_df = pd.DataFrame(y)"
   ]
  },
  {
   "cell_type": "code",
   "execution_count": 13,
   "metadata": {},
   "outputs": [
    {
     "data": {
      "text/html": [
       "<div>\n",
       "<style scoped>\n",
       "    .dataframe tbody tr th:only-of-type {\n",
       "        vertical-align: middle;\n",
       "    }\n",
       "\n",
       "    .dataframe tbody tr th {\n",
       "        vertical-align: top;\n",
       "    }\n",
       "\n",
       "    .dataframe thead th {\n",
       "        text-align: right;\n",
       "    }\n",
       "</style>\n",
       "<table border=\"1\" class=\"dataframe\">\n",
       "  <thead>\n",
       "    <tr style=\"text-align: right;\">\n",
       "      <th></th>\n",
       "      <th>0</th>\n",
       "      <th>1</th>\n",
       "      <th>2</th>\n",
       "      <th>3</th>\n",
       "      <th>4</th>\n",
       "      <th>5</th>\n",
       "      <th>6</th>\n",
       "      <th>7</th>\n",
       "      <th>8</th>\n",
       "      <th>9</th>\n",
       "      <th>...</th>\n",
       "      <th>123</th>\n",
       "      <th>124</th>\n",
       "      <th>125</th>\n",
       "      <th>126</th>\n",
       "      <th>127</th>\n",
       "      <th>128</th>\n",
       "      <th>129</th>\n",
       "      <th>130</th>\n",
       "      <th>131</th>\n",
       "      <th>132</th>\n",
       "    </tr>\n",
       "  </thead>\n",
       "  <tbody>\n",
       "    <tr>\n",
       "      <th>0</th>\n",
       "      <td>0.000215</td>\n",
       "      <td>1.436200e-08</td>\n",
       "      <td>1.686700e-08</td>\n",
       "      <td>1.786900e-08</td>\n",
       "      <td>1.703400e-08</td>\n",
       "      <td>1.803600e-08</td>\n",
       "      <td>1.670000e-08</td>\n",
       "      <td>1.920500e-08</td>\n",
       "      <td>2.171000e-08</td>\n",
       "      <td>2.588500e-08</td>\n",
       "      <td>...</td>\n",
       "      <td>0.0</td>\n",
       "      <td>0.0</td>\n",
       "      <td>0.0</td>\n",
       "      <td>0.0</td>\n",
       "      <td>0.0</td>\n",
       "      <td>0.0</td>\n",
       "      <td>0.0</td>\n",
       "      <td>0.0</td>\n",
       "      <td>0.0</td>\n",
       "      <td>0.0</td>\n",
       "    </tr>\n",
       "    <tr>\n",
       "      <th>1</th>\n",
       "      <td>0.000214</td>\n",
       "      <td>1.402800e-08</td>\n",
       "      <td>1.686700e-08</td>\n",
       "      <td>1.786900e-08</td>\n",
       "      <td>1.703400e-08</td>\n",
       "      <td>1.803600e-08</td>\n",
       "      <td>1.653300e-08</td>\n",
       "      <td>1.920500e-08</td>\n",
       "      <td>2.171000e-08</td>\n",
       "      <td>2.505000e-08</td>\n",
       "      <td>...</td>\n",
       "      <td>0.0</td>\n",
       "      <td>0.0</td>\n",
       "      <td>0.0</td>\n",
       "      <td>0.0</td>\n",
       "      <td>0.0</td>\n",
       "      <td>0.0</td>\n",
       "      <td>0.0</td>\n",
       "      <td>0.0</td>\n",
       "      <td>0.0</td>\n",
       "      <td>0.0</td>\n",
       "    </tr>\n",
       "    <tr>\n",
       "      <th>2</th>\n",
       "      <td>0.000214</td>\n",
       "      <td>1.369400e-08</td>\n",
       "      <td>1.670000e-08</td>\n",
       "      <td>1.770200e-08</td>\n",
       "      <td>1.703400e-08</td>\n",
       "      <td>1.786900e-08</td>\n",
       "      <td>1.686700e-08</td>\n",
       "      <td>1.870400e-08</td>\n",
       "      <td>2.137600e-08</td>\n",
       "      <td>2.555100e-08</td>\n",
       "      <td>...</td>\n",
       "      <td>0.0</td>\n",
       "      <td>0.0</td>\n",
       "      <td>0.0</td>\n",
       "      <td>0.0</td>\n",
       "      <td>0.0</td>\n",
       "      <td>0.0</td>\n",
       "      <td>0.0</td>\n",
       "      <td>0.0</td>\n",
       "      <td>0.0</td>\n",
       "      <td>0.0</td>\n",
       "    </tr>\n",
       "    <tr>\n",
       "      <th>3</th>\n",
       "      <td>0.000213</td>\n",
       "      <td>1.369400e-08</td>\n",
       "      <td>1.636600e-08</td>\n",
       "      <td>1.770200e-08</td>\n",
       "      <td>1.670000e-08</td>\n",
       "      <td>1.720100e-08</td>\n",
       "      <td>1.736800e-08</td>\n",
       "      <td>1.837000e-08</td>\n",
       "      <td>2.154300e-08</td>\n",
       "      <td>2.521700e-08</td>\n",
       "      <td>...</td>\n",
       "      <td>0.0</td>\n",
       "      <td>0.0</td>\n",
       "      <td>0.0</td>\n",
       "      <td>0.0</td>\n",
       "      <td>0.0</td>\n",
       "      <td>0.0</td>\n",
       "      <td>0.0</td>\n",
       "      <td>0.0</td>\n",
       "      <td>0.0</td>\n",
       "      <td>0.0</td>\n",
       "    </tr>\n",
       "    <tr>\n",
       "      <th>4</th>\n",
       "      <td>0.000212</td>\n",
       "      <td>1.352700e-08</td>\n",
       "      <td>1.653300e-08</td>\n",
       "      <td>1.753500e-08</td>\n",
       "      <td>1.653300e-08</td>\n",
       "      <td>1.753500e-08</td>\n",
       "      <td>1.670000e-08</td>\n",
       "      <td>1.803600e-08</td>\n",
       "      <td>2.087500e-08</td>\n",
       "      <td>2.538400e-08</td>\n",
       "      <td>...</td>\n",
       "      <td>0.0</td>\n",
       "      <td>0.0</td>\n",
       "      <td>0.0</td>\n",
       "      <td>0.0</td>\n",
       "      <td>0.0</td>\n",
       "      <td>0.0</td>\n",
       "      <td>0.0</td>\n",
       "      <td>0.0</td>\n",
       "      <td>0.0</td>\n",
       "      <td>0.0</td>\n",
       "    </tr>\n",
       "  </tbody>\n",
       "</table>\n",
       "<p>5 rows × 133 columns</p>\n",
       "</div>"
      ],
      "text/plain": [
       "        0             1             2             3             4    \\\n",
       "0  0.000215  1.436200e-08  1.686700e-08  1.786900e-08  1.703400e-08   \n",
       "1  0.000214  1.402800e-08  1.686700e-08  1.786900e-08  1.703400e-08   \n",
       "2  0.000214  1.369400e-08  1.670000e-08  1.770200e-08  1.703400e-08   \n",
       "3  0.000213  1.369400e-08  1.636600e-08  1.770200e-08  1.670000e-08   \n",
       "4  0.000212  1.352700e-08  1.653300e-08  1.753500e-08  1.653300e-08   \n",
       "\n",
       "            5             6             7             8             9    ...  \\\n",
       "0  1.803600e-08  1.670000e-08  1.920500e-08  2.171000e-08  2.588500e-08  ...   \n",
       "1  1.803600e-08  1.653300e-08  1.920500e-08  2.171000e-08  2.505000e-08  ...   \n",
       "2  1.786900e-08  1.686700e-08  1.870400e-08  2.137600e-08  2.555100e-08  ...   \n",
       "3  1.720100e-08  1.736800e-08  1.837000e-08  2.154300e-08  2.521700e-08  ...   \n",
       "4  1.753500e-08  1.670000e-08  1.803600e-08  2.087500e-08  2.538400e-08  ...   \n",
       "\n",
       "   123  124  125  126  127  128  129  130  131  132  \n",
       "0  0.0  0.0  0.0  0.0  0.0  0.0  0.0  0.0  0.0  0.0  \n",
       "1  0.0  0.0  0.0  0.0  0.0  0.0  0.0  0.0  0.0  0.0  \n",
       "2  0.0  0.0  0.0  0.0  0.0  0.0  0.0  0.0  0.0  0.0  \n",
       "3  0.0  0.0  0.0  0.0  0.0  0.0  0.0  0.0  0.0  0.0  \n",
       "4  0.0  0.0  0.0  0.0  0.0  0.0  0.0  0.0  0.0  0.0  \n",
       "\n",
       "[5 rows x 133 columns]"
      ]
     },
     "execution_count": 13,
     "metadata": {},
     "output_type": "execute_result"
    }
   ],
   "source": [
    "x_df.head()"
   ]
  },
  {
   "cell_type": "code",
   "execution_count": 14,
   "metadata": {},
   "outputs": [
    {
     "name": "stdout",
     "output_type": "stream",
     "text": [
      "<class 'pandas.core.frame.DataFrame'>\n",
      "RangeIndex: 5204 entries, 0 to 5203\n",
      "Columns: 133 entries, 0 to 132\n",
      "dtypes: float64(133)\n",
      "memory usage: 5.3 MB\n"
     ]
    }
   ],
   "source": [
    "x_df.info()"
   ]
  },
  {
   "cell_type": "code",
   "execution_count": 15,
   "metadata": {},
   "outputs": [
    {
     "data": {
      "text/html": [
       "<div>\n",
       "<style scoped>\n",
       "    .dataframe tbody tr th:only-of-type {\n",
       "        vertical-align: middle;\n",
       "    }\n",
       "\n",
       "    .dataframe tbody tr th {\n",
       "        vertical-align: top;\n",
       "    }\n",
       "\n",
       "    .dataframe thead th {\n",
       "        text-align: right;\n",
       "    }\n",
       "</style>\n",
       "<table border=\"1\" class=\"dataframe\">\n",
       "  <thead>\n",
       "    <tr style=\"text-align: right;\">\n",
       "      <th></th>\n",
       "      <th>0</th>\n",
       "      <th>1</th>\n",
       "    </tr>\n",
       "  </thead>\n",
       "  <tbody>\n",
       "    <tr>\n",
       "      <th>0</th>\n",
       "      <td>0.0</td>\n",
       "      <td>0.50</td>\n",
       "    </tr>\n",
       "    <tr>\n",
       "      <th>1</th>\n",
       "      <td>0.0</td>\n",
       "      <td>0.51</td>\n",
       "    </tr>\n",
       "    <tr>\n",
       "      <th>2</th>\n",
       "      <td>0.0</td>\n",
       "      <td>0.52</td>\n",
       "    </tr>\n",
       "    <tr>\n",
       "      <th>3</th>\n",
       "      <td>0.0</td>\n",
       "      <td>0.53</td>\n",
       "    </tr>\n",
       "    <tr>\n",
       "      <th>4</th>\n",
       "      <td>0.0</td>\n",
       "      <td>0.54</td>\n",
       "    </tr>\n",
       "    <tr>\n",
       "      <th>...</th>\n",
       "      <td>...</td>\n",
       "      <td>...</td>\n",
       "    </tr>\n",
       "    <tr>\n",
       "      <th>5199</th>\n",
       "      <td>90.0</td>\n",
       "      <td>13.46</td>\n",
       "    </tr>\n",
       "    <tr>\n",
       "      <th>5200</th>\n",
       "      <td>90.0</td>\n",
       "      <td>13.47</td>\n",
       "    </tr>\n",
       "    <tr>\n",
       "      <th>5201</th>\n",
       "      <td>90.0</td>\n",
       "      <td>13.48</td>\n",
       "    </tr>\n",
       "    <tr>\n",
       "      <th>5202</th>\n",
       "      <td>90.0</td>\n",
       "      <td>13.49</td>\n",
       "    </tr>\n",
       "    <tr>\n",
       "      <th>5203</th>\n",
       "      <td>90.0</td>\n",
       "      <td>13.50</td>\n",
       "    </tr>\n",
       "  </tbody>\n",
       "</table>\n",
       "<p>5204 rows × 2 columns</p>\n",
       "</div>"
      ],
      "text/plain": [
       "         0      1\n",
       "0      0.0   0.50\n",
       "1      0.0   0.51\n",
       "2      0.0   0.52\n",
       "3      0.0   0.53\n",
       "4      0.0   0.54\n",
       "...    ...    ...\n",
       "5199  90.0  13.46\n",
       "5200  90.0  13.47\n",
       "5201  90.0  13.48\n",
       "5202  90.0  13.49\n",
       "5203  90.0  13.50\n",
       "\n",
       "[5204 rows x 2 columns]"
      ]
     },
     "execution_count": 15,
     "metadata": {},
     "output_type": "execute_result"
    }
   ],
   "source": [
    "y_df"
   ]
  },
  {
   "cell_type": "code",
   "execution_count": 16,
   "metadata": {},
   "outputs": [
    {
     "data": {
      "text/plain": [
       "<AxesSubplot:ylabel='count'>"
      ]
     },
     "execution_count": 16,
     "metadata": {},
     "output_type": "execute_result"
    },
    {
     "data": {
      "image/png": "[encoded data removed]",
      "text/plain": [
       "<Figure size 432x288 with 1 Axes>"
      ]
     },
     "metadata": {
      "needs_background": "light"
     },
     "output_type": "display_data"
    }
   ],
   "source": [
    "sns.countplot(data=y_df)"
   ]
  },
  {
   "cell_type": "markdown",
   "metadata": {},
   "source": [
    "**Normalizando as variáveis previsoras: x_feat**"
   ]
  },
  {
   "cell_type": "code",
   "execution_count": 17,
   "metadata": {},
   "outputs": [],
   "source": [
    "from sklearn.preprocessing import MinMaxScaler"
   ]
  },
  {
   "cell_type": "code",
   "execution_count": 18,
   "metadata": {},
   "outputs": [],
   "source": [
    "scaler = MinMaxScaler()"
   ]
  },
  {
   "cell_type": "code",
   "execution_count": 19,
   "metadata": {},
   "outputs": [
    {
     "data": {
      "text/plain": [
       "MinMaxScaler()"
      ]
     },
     "execution_count": 19,
     "metadata": {},
     "output_type": "execute_result"
    }
   ],
   "source": [
    "scaler.fit(x_df)"
   ]
  },
  {
   "cell_type": "code",
   "execution_count": 20,
   "metadata": {},
   "outputs": [],
   "source": [
    "scaled_features = scaler.transform(x_df)"
   ]
  },
  {
   "cell_type": "code",
   "execution_count": 21,
   "metadata": {},
   "outputs": [
    {
     "data": {
      "text/html": [
       "<div>\n",
       "<style scoped>\n",
       "    .dataframe tbody tr th:only-of-type {\n",
       "        vertical-align: middle;\n",
       "    }\n",
       "\n",
       "    .dataframe tbody tr th {\n",
       "        vertical-align: top;\n",
       "    }\n",
       "\n",
       "    .dataframe thead th {\n",
       "        text-align: right;\n",
       "    }\n",
       "</style>\n",
       "<table border=\"1\" class=\"dataframe\">\n",
       "  <thead>\n",
       "    <tr style=\"text-align: right;\">\n",
       "      <th></th>\n",
       "      <th>0</th>\n",
       "      <th>1</th>\n",
       "      <th>2</th>\n",
       "      <th>3</th>\n",
       "      <th>4</th>\n",
       "      <th>5</th>\n",
       "      <th>6</th>\n",
       "      <th>7</th>\n",
       "      <th>8</th>\n",
       "      <th>9</th>\n",
       "      <th>...</th>\n",
       "      <th>123</th>\n",
       "      <th>124</th>\n",
       "      <th>125</th>\n",
       "      <th>126</th>\n",
       "      <th>127</th>\n",
       "      <th>128</th>\n",
       "      <th>129</th>\n",
       "      <th>130</th>\n",
       "      <th>131</th>\n",
       "      <th>132</th>\n",
       "    </tr>\n",
       "  </thead>\n",
       "  <tbody>\n",
       "    <tr>\n",
       "      <th>0</th>\n",
       "      <td>1.000000</td>\n",
       "      <td>0.926829</td>\n",
       "      <td>1.000000</td>\n",
       "      <td>1.000000</td>\n",
       "      <td>1.000000</td>\n",
       "      <td>0.989691</td>\n",
       "      <td>0.957447</td>\n",
       "      <td>1.000000</td>\n",
       "      <td>1.000000</td>\n",
       "      <td>1.000000</td>\n",
       "      <td>...</td>\n",
       "      <td>0.0</td>\n",
       "      <td>0.0</td>\n",
       "      <td>0.0</td>\n",
       "      <td>0.0</td>\n",
       "      <td>0.0</td>\n",
       "      <td>0.0</td>\n",
       "      <td>0.0</td>\n",
       "      <td>0.0</td>\n",
       "      <td>0.0</td>\n",
       "      <td>0.0</td>\n",
       "    </tr>\n",
       "    <tr>\n",
       "      <th>1</th>\n",
       "      <td>0.995868</td>\n",
       "      <td>0.902439</td>\n",
       "      <td>1.000000</td>\n",
       "      <td>1.000000</td>\n",
       "      <td>1.000000</td>\n",
       "      <td>0.989691</td>\n",
       "      <td>0.946809</td>\n",
       "      <td>1.000000</td>\n",
       "      <td>1.000000</td>\n",
       "      <td>0.963768</td>\n",
       "      <td>...</td>\n",
       "      <td>0.0</td>\n",
       "      <td>0.0</td>\n",
       "      <td>0.0</td>\n",
       "      <td>0.0</td>\n",
       "      <td>0.0</td>\n",
       "      <td>0.0</td>\n",
       "      <td>0.0</td>\n",
       "      <td>0.0</td>\n",
       "      <td>0.0</td>\n",
       "      <td>0.0</td>\n",
       "    </tr>\n",
       "    <tr>\n",
       "      <th>2</th>\n",
       "      <td>0.991863</td>\n",
       "      <td>0.878049</td>\n",
       "      <td>0.989583</td>\n",
       "      <td>0.989474</td>\n",
       "      <td>1.000000</td>\n",
       "      <td>0.979381</td>\n",
       "      <td>0.968085</td>\n",
       "      <td>0.971429</td>\n",
       "      <td>0.982906</td>\n",
       "      <td>0.985507</td>\n",
       "      <td>...</td>\n",
       "      <td>0.0</td>\n",
       "      <td>0.0</td>\n",
       "      <td>0.0</td>\n",
       "      <td>0.0</td>\n",
       "      <td>0.0</td>\n",
       "      <td>0.0</td>\n",
       "      <td>0.0</td>\n",
       "      <td>0.0</td>\n",
       "      <td>0.0</td>\n",
       "      <td>0.0</td>\n",
       "    </tr>\n",
       "    <tr>\n",
       "      <th>3</th>\n",
       "      <td>0.987783</td>\n",
       "      <td>0.878049</td>\n",
       "      <td>0.968750</td>\n",
       "      <td>0.989474</td>\n",
       "      <td>0.978261</td>\n",
       "      <td>0.938144</td>\n",
       "      <td>1.000000</td>\n",
       "      <td>0.952381</td>\n",
       "      <td>0.991453</td>\n",
       "      <td>0.971014</td>\n",
       "      <td>...</td>\n",
       "      <td>0.0</td>\n",
       "      <td>0.0</td>\n",
       "      <td>0.0</td>\n",
       "      <td>0.0</td>\n",
       "      <td>0.0</td>\n",
       "      <td>0.0</td>\n",
       "      <td>0.0</td>\n",
       "      <td>0.0</td>\n",
       "      <td>0.0</td>\n",
       "      <td>0.0</td>\n",
       "    </tr>\n",
       "    <tr>\n",
       "      <th>4</th>\n",
       "      <td>0.983744</td>\n",
       "      <td>0.865854</td>\n",
       "      <td>0.979167</td>\n",
       "      <td>0.978947</td>\n",
       "      <td>0.967391</td>\n",
       "      <td>0.958763</td>\n",
       "      <td>0.957447</td>\n",
       "      <td>0.933333</td>\n",
       "      <td>0.957265</td>\n",
       "      <td>0.978261</td>\n",
       "      <td>...</td>\n",
       "      <td>0.0</td>\n",
       "      <td>0.0</td>\n",
       "      <td>0.0</td>\n",
       "      <td>0.0</td>\n",
       "      <td>0.0</td>\n",
       "      <td>0.0</td>\n",
       "      <td>0.0</td>\n",
       "      <td>0.0</td>\n",
       "      <td>0.0</td>\n",
       "      <td>0.0</td>\n",
       "    </tr>\n",
       "  </tbody>\n",
       "</table>\n",
       "<p>5 rows × 133 columns</p>\n",
       "</div>"
      ],
      "text/plain": [
       "        0         1         2         3         4         5         6    \\\n",
       "0  1.000000  0.926829  1.000000  1.000000  1.000000  0.989691  0.957447   \n",
       "1  0.995868  0.902439  1.000000  1.000000  1.000000  0.989691  0.946809   \n",
       "2  0.991863  0.878049  0.989583  0.989474  1.000000  0.979381  0.968085   \n",
       "3  0.987783  0.878049  0.968750  0.989474  0.978261  0.938144  1.000000   \n",
       "4  0.983744  0.865854  0.979167  0.978947  0.967391  0.958763  0.957447   \n",
       "\n",
       "        7         8         9    ...  123  124  125  126  127  128  129  130  \\\n",
       "0  1.000000  1.000000  1.000000  ...  0.0  0.0  0.0  0.0  0.0  0.0  0.0  0.0   \n",
       "1  1.000000  1.000000  0.963768  ...  0.0  0.0  0.0  0.0  0.0  0.0  0.0  0.0   \n",
       "2  0.971429  0.982906  0.985507  ...  0.0  0.0  0.0  0.0  0.0  0.0  0.0  0.0   \n",
       "3  0.952381  0.991453  0.971014  ...  0.0  0.0  0.0  0.0  0.0  0.0  0.0  0.0   \n",
       "4  0.933333  0.957265  0.978261  ...  0.0  0.0  0.0  0.0  0.0  0.0  0.0  0.0   \n",
       "\n",
       "   131  132  \n",
       "0  0.0  0.0  \n",
       "1  0.0  0.0  \n",
       "2  0.0  0.0  \n",
       "3  0.0  0.0  \n",
       "4  0.0  0.0  \n",
       "\n",
       "[5 rows x 133 columns]"
      ]
     },
     "execution_count": 21,
     "metadata": {},
     "output_type": "execute_result"
    }
   ],
   "source": [
    "x_feat = pd.DataFrame(scaled_features)\n",
    "x_feat.head()"
   ]
  },
  {
   "cell_type": "markdown",
   "metadata": {},
   "source": [
    "**Transformando atributos categóricos em tipo dummy do alvo: y_df**"
   ]
  },
  {
   "cell_type": "code",
   "execution_count": 22,
   "metadata": {},
   "outputs": [],
   "source": [
    "from sklearn.preprocessing import LabelEncoder, OneHotEncoder"
   ]
  },
  {
   "cell_type": "code",
   "execution_count": 23,
   "metadata": {},
   "outputs": [],
   "source": [
    "from sklearn.compose import ColumnTransformer"
   ]
  },
  {
   "cell_type": "code",
   "execution_count": 24,
   "metadata": {},
   "outputs": [],
   "source": [
    "labelenconder = LabelEncoder()"
   ]
  },
  {
   "cell_type": "code",
   "execution_count": 25,
   "metadata": {},
   "outputs": [
    {
     "data": {
      "text/plain": [
       "0        0.0\n",
       "1        0.0\n",
       "2        0.0\n",
       "3        0.0\n",
       "4        0.0\n",
       "        ... \n",
       "5199    90.0\n",
       "5200    90.0\n",
       "5201    90.0\n",
       "5202    90.0\n",
       "5203    90.0\n",
       "Name: 0, Length: 5204, dtype: float64"
      ]
     },
     "execution_count": 25,
     "metadata": {},
     "output_type": "execute_result"
    }
   ],
   "source": [
    "y_df[0]"
   ]
  },
  {
   "cell_type": "code",
   "execution_count": 26,
   "metadata": {},
   "outputs": [],
   "source": [
    "y_num = labelenconder.fit_transform(y_df[0])"
   ]
  },
  {
   "cell_type": "code",
   "execution_count": 27,
   "metadata": {},
   "outputs": [
    {
     "data": {
      "text/plain": [
       "array([0, 0, 0, ..., 3, 3, 3], dtype=int64)"
      ]
     },
     "execution_count": 27,
     "metadata": {},
     "output_type": "execute_result"
    }
   ],
   "source": [
    "y_num"
   ]
  },
  {
   "cell_type": "code",
   "execution_count": 28,
   "metadata": {},
   "outputs": [],
   "source": [
    "onehotencoder = ColumnTransformer(transformers=[(\"OneHot\", OneHotEncoder(), [0])],\n",
    "                                  remainder='passthrough')"
   ]
  },
  {
   "cell_type": "code",
   "execution_count": 29,
   "metadata": {},
   "outputs": [],
   "source": [
    "y_dummy = onehotencoder.fit_transform(y)"
   ]
  },
  {
   "cell_type": "code",
   "execution_count": 30,
   "metadata": {},
   "outputs": [
    {
     "data": {
      "text/plain": [
       "array([[ 1.  ,  0.  ,  0.  ,  0.  ,  0.5 ],\n",
       "       [ 1.  ,  0.  ,  0.  ,  0.  ,  0.51],\n",
       "       [ 1.  ,  0.  ,  0.  ,  0.  ,  0.52],\n",
       "       ...,\n",
       "       [ 0.  ,  0.  ,  0.  ,  1.  , 13.48],\n",
       "       [ 0.  ,  0.  ,  0.  ,  1.  , 13.49],\n",
       "       [ 0.  ,  0.  ,  0.  ,  1.  , 13.5 ]])"
      ]
     },
     "execution_count": 30,
     "metadata": {},
     "output_type": "execute_result"
    }
   ],
   "source": [
    "y_dummy"
   ]
  },
  {
   "cell_type": "code",
   "execution_count": 31,
   "metadata": {},
   "outputs": [],
   "source": [
    "y_feat = pd.DataFrame(y_dummy)"
   ]
  },
  {
   "cell_type": "code",
   "execution_count": null,
   "metadata": {},
   "outputs": [],
   "source": [
    "y_feat.head()"
   ]
  },
  {
   "cell_type": "code",
   "execution_count": null,
   "metadata": {},
   "outputs": [],
   "source": [
    "y_feat.describe()"
   ]
  },
  {
   "cell_type": "code",
   "execution_count": null,
   "metadata": {},
   "outputs": [],
   "source": [
    "X = x_feat\n",
    "y= y_feat"
   ]
  },
  {
   "cell_type": "markdown",
   "metadata": {},
   "source": [
    "## APLICAÇÃO DOS MODELOS DE MACHINE LEARNING"
   ]
  },
  {
   "cell_type": "markdown",
   "metadata": {},
   "source": [
    "**1 - Regressão Linear**"
   ]
  },
  {
   "cell_type": "markdown",
   "metadata": {},
   "source": [
    "*_split do treino_*"
   ]
  },
  {
   "cell_type": "code",
   "execution_count": null,
   "metadata": {},
   "outputs": [],
   "source": [
    "from sklearn.model_selection import train_test_split"
   ]
  },
  {
   "cell_type": "code",
   "execution_count": null,
   "metadata": {},
   "outputs": [],
   "source": [
    "X_train, X_test, y_train, y_test = train_test_split(X, y, test_size=0.3, random_state=1632)"
   ]
  },
  {
   "cell_type": "markdown",
   "metadata": {},
   "source": [
    "*Criando e treinando o modelo*"
   ]
  },
  {
   "cell_type": "code",
   "execution_count": null,
   "metadata": {},
   "outputs": [],
   "source": [
    "from sklearn.linear_model import LinearRegression"
   ]
  },
  {
   "cell_type": "code",
   "execution_count": null,
   "metadata": {},
   "outputs": [],
   "source": [
    "lm = LinearRegression()"
   ]
  },
  {
   "cell_type": "code",
   "execution_count": null,
   "metadata": {},
   "outputs": [],
   "source": [
    "lm.fit(X_train,y_train)"
   ]
  },
  {
   "cell_type": "markdown",
   "metadata": {},
   "source": [
    "*Predição do modelo*"
   ]
  },
  {
   "cell_type": "code",
   "execution_count": null,
   "metadata": {},
   "outputs": [],
   "source": [
    "predictions = lm.predict(X_test)"
   ]
  },
  {
   "cell_type": "code",
   "execution_count": null,
   "metadata": {},
   "outputs": [],
   "source": [
    "plt.figure(figsize=(10,6))\n",
    "plt.scatter(y_test,predictions)"
   ]
  },
  {
   "cell_type": "markdown",
   "metadata": {},
   "source": [
    "histograma residual"
   ]
  },
  {
   "cell_type": "code",
   "execution_count": null,
   "metadata": {},
   "outputs": [],
   "source": [
    "plt.figure(figsize=(10,6))\n",
    "sns.distplot((y_test- predictions),bins=30);"
   ]
  },
  {
   "cell_type": "markdown",
   "metadata": {},
   "source": [
    "*métricas de avaliação da regressão*"
   ]
  },
  {
   "cell_type": "code",
   "execution_count": null,
   "metadata": {},
   "outputs": [],
   "source": [
    "from sklearn import metrics"
   ]
  },
  {
   "cell_type": "code",
   "execution_count": null,
   "metadata": {},
   "outputs": [],
   "source": [
    "print('MAE:', metrics.mean_absolute_error(y_test, predictions))\n",
    "print('MSE:', metrics.mean_squared_error(y_test, predictions))\n",
    "print('RMSE:', np.sqrt(metrics.mean_squared_error(y_test, predictions)))\n",
    "print('r2:', metrics.r2_score(y_test, predictions))"
   ]
  },
  {
   "cell_type": "markdown",
   "metadata": {},
   "source": [
    "**2 - Regressão Polinomial - 2° grau**"
   ]
  },
  {
   "cell_type": "code",
   "execution_count": null,
   "metadata": {},
   "outputs": [],
   "source": [
    "from sklearn.preprocessing import PolynomialFeatures"
   ]
  },
  {
   "cell_type": "code",
   "execution_count": null,
   "metadata": {},
   "outputs": [],
   "source": [
    "carac2 = PolynomialFeatures(degree=2)\n",
    "X_poli_2 = carac2.fit_transform(X)"
   ]
  },
  {
   "cell_type": "code",
   "execution_count": null,
   "metadata": {},
   "outputs": [],
   "source": [
    "modelo2 = LinearRegression()\n",
    "modelo2.fit(X_poli_2, y)\n",
    "Y_poli_2 = modelo2.predict(X_poli_2,)"
   ]
  },
  {
   "cell_type": "code",
   "execution_count": null,
   "metadata": {},
   "outputs": [],
   "source": [
    "plt.figure(figsize=(10,6))\n",
    "plt.scatter(y, Y_poli_2)"
   ]
  },
  {
   "cell_type": "code",
   "execution_count": null,
   "metadata": {},
   "outputs": [],
   "source": [
    "plt.figure(figsize=(10,6))\n",
    "sns.distplot((y-Y_poli_2),bins=100);"
   ]
  },
  {
   "cell_type": "code",
   "execution_count": null,
   "metadata": {},
   "outputs": [],
   "source": [
    "print('MAE:', metrics.mean_absolute_error(y, Y_poli_2))\n",
    "print('MSE:', metrics.mean_squared_error(y, Y_poli_2))\n",
    "print('RMSE:', np.sqrt(metrics.mean_squared_error(y, Y_poli_2)))\n",
    "print('r2:', metrics.r2_score(y, Y_poli_2))"
   ]
  },
  {
   "cell_type": "markdown",
   "metadata": {},
   "source": [
    "**3 - K Nearest Neighbors**"
   ]
  },
  {
   "cell_type": "markdown",
   "metadata": {},
   "source": [
    "*Criando e treinando o modelo*"
   ]
  },
  {
   "cell_type": "code",
   "execution_count": null,
   "metadata": {},
   "outputs": [],
   "source": [
    "from sklearn.neighbors import KNeighborsRegressor"
   ]
  },
  {
   "cell_type": "code",
   "execution_count": null,
   "metadata": {},
   "outputs": [],
   "source": [
    "knn = KNeighborsRegressor(n_neighbors=2)"
   ]
  },
  {
   "cell_type": "code",
   "execution_count": null,
   "metadata": {},
   "outputs": [],
   "source": [
    "knn.fit(X_train,y_train)"
   ]
  },
  {
   "cell_type": "code",
   "execution_count": null,
   "metadata": {},
   "outputs": [],
   "source": [
    "pred = knn.predict(X_test)"
   ]
  },
  {
   "cell_type": "code",
   "execution_count": null,
   "metadata": {},
   "outputs": [],
   "source": [
    "pred = pd.DataFrame(pred)"
   ]
  },
  {
   "cell_type": "code",
   "execution_count": null,
   "metadata": {},
   "outputs": [],
   "source": [
    "plt.figure(figsize=(10,6))\n",
    "plt.scatter(y_test,pred)"
   ]
  },
  {
   "cell_type": "markdown",
   "metadata": {},
   "source": [
    "*Previsões e avaliações*"
   ]
  },
  {
   "cell_type": "code",
   "execution_count": null,
   "metadata": {},
   "outputs": [],
   "source": [
    "from sklearn import metrics"
   ]
  },
  {
   "cell_type": "code",
   "execution_count": null,
   "metadata": {},
   "outputs": [],
   "source": [
    "print('MAE:', metrics.mean_absolute_error(y_test, pred))\n",
    "print('MSE:', metrics.mean_squared_error(y_test, pred))\n",
    "print('RMSE:', np.sqrt(metrics.mean_squared_error(y_test, pred)))\n",
    "print('r2:', metrics.r2_score(y_test, pred))"
   ]
  },
  {
   "cell_type": "markdown",
   "metadata": {},
   "source": [
    "**4 - Árvores de decisão e florestas aleatórias**"
   ]
  },
  {
   "cell_type": "code",
   "execution_count": null,
   "metadata": {},
   "outputs": [],
   "source": [
    "from sklearn.tree import DecisionTreeRegressor"
   ]
  },
  {
   "cell_type": "code",
   "execution_count": null,
   "metadata": {},
   "outputs": [],
   "source": [
    "dtree = DecisionTreeRegressor()"
   ]
  },
  {
   "cell_type": "code",
   "execution_count": null,
   "metadata": {},
   "outputs": [],
   "source": [
    "dtree.fit(X_train,y_train)"
   ]
  },
  {
   "cell_type": "code",
   "execution_count": null,
   "metadata": {},
   "outputs": [],
   "source": [
    "predicts = dtree.predict(X_test)"
   ]
  },
  {
   "cell_type": "code",
   "execution_count": null,
   "metadata": {},
   "outputs": [],
   "source": [
    "plt.figure(figsize=(10,6))\n",
    "plt.scatter(y_test,predicts)"
   ]
  },
  {
   "cell_type": "code",
   "execution_count": null,
   "metadata": {},
   "outputs": [],
   "source": [
    "print('MAE:', metrics.mean_absolute_error(y_test, predicts))\n",
    "print('MSE:', metrics.mean_squared_error(y_test, predicts))\n",
    "print('RMSE:', np.sqrt(metrics.mean_squared_error(y_test, predicts)))\n",
    "print('r2:', metrics.r2_score(y_test, predicts))"
   ]
  },
  {
   "cell_type": "code",
   "execution_count": null,
   "metadata": {},
   "outputs": [],
   "source": [
    "from sklearn.ensemble import RandomForestRegressor"
   ]
  },
  {
   "cell_type": "code",
   "execution_count": null,
   "metadata": {},
   "outputs": [],
   "source": [
    "rfc = RandomForestRegressor(n_estimators=600)"
   ]
  },
  {
   "cell_type": "code",
   "execution_count": null,
   "metadata": {},
   "outputs": [],
   "source": [
    "rfc.fit(X_train,y_train)"
   ]
  },
  {
   "cell_type": "code",
   "execution_count": null,
   "metadata": {},
   "outputs": [],
   "source": [
    "predicts2 = rfc.predict(X_test)"
   ]
  },
  {
   "cell_type": "code",
   "execution_count": null,
   "metadata": {},
   "outputs": [],
   "source": [
    "plt.figure(figsize=(10,6))\n",
    "plt.scatter(y_test,predicts2)"
   ]
  },
  {
   "cell_type": "code",
   "execution_count": null,
   "metadata": {},
   "outputs": [],
   "source": [
    "print('MAE:', metrics.mean_absolute_error(y_test, predicts2))\n",
    "print('MSE:', metrics.mean_squared_error(y_test, predicts2))\n",
    "print('RMSE:', np.sqrt(metrics.mean_squared_error(y_test, predicts2)))\n",
    "print('r2:', metrics.r2_score(y_test, predicts2))"
   ]
  },
  {
   "cell_type": "markdown",
   "metadata": {},
   "source": [
    "**5 - Support Vector Machine (SVM)**"
   ]
  },
  {
   "cell_type": "markdown",
   "metadata": {},
   "source": [
    "Esse tipo de modelo suporta somente uma dimensão de saída? Pesquisar sobre..."
   ]
  },
  {
   "cell_type": "code",
   "execution_count": null,
   "metadata": {},
   "outputs": [],
   "source": [
    "from sklearn.svm import SVR"
   ]
  },
  {
   "cell_type": "code",
   "execution_count": null,
   "metadata": {},
   "outputs": [],
   "source": [
    "model = SVR(degree=2, C=1000, epsilon=0.1)"
   ]
  },
  {
   "cell_type": "code",
   "execution_count": null,
   "metadata": {},
   "outputs": [],
   "source": [
    "y_train[4]"
   ]
  },
  {
   "cell_type": "code",
   "execution_count": null,
   "metadata": {},
   "outputs": [],
   "source": [
    "model.fit(X_train, y_train[4])"
   ]
  },
  {
   "cell_type": "code",
   "execution_count": null,
   "metadata": {},
   "outputs": [],
   "source": [
    "pred_svr = rfc.predict(X_test)"
   ]
  },
  {
   "cell_type": "code",
   "execution_count": null,
   "metadata": {},
   "outputs": [],
   "source": [
    "plt.figure(figsize=(10,6))\n",
    "plt.scatter(y_test,pred_svr)"
   ]
  },
  {
   "cell_type": "code",
   "execution_count": null,
   "metadata": {},
   "outputs": [],
   "source": [
    "print('MAE:', metrics.mean_absolute_error(y_test, predicts2))\n",
    "print('MSE:', metrics.mean_squared_error(y_test, predicts2))\n",
    "print('RMSE:', np.sqrt(metrics.mean_squared_error(y_test, predicts2)))\n",
    "print('r2:', metrics.r2_score(y_test, predicts2))"
   ]
  },
  {
   "cell_type": "code",
   "execution_count": null,
   "metadata": {},
   "outputs": [],
   "source": []
  },
  {
   "cell_type": "code",
   "execution_count": null,
   "metadata": {},
   "outputs": [],
   "source": []
  }
 ],
 "metadata": {
  "kernelspec": {
   "display_name": "Python 3",
   "language": "python",
   "name": "python3"
  },
  "language_info": {
   "codemirror_mode": {
    "name": "ipython",
    "version": 3
   },
   "file_extension": ".py",
   "mimetype": "text/x-python",
   "name": "python",
   "nbconvert_exporter": "python",
   "pygments_lexer": "ipython3",
   "version": "3.8.5"
  }
 },
 "nbformat": 4,
 "nbformat_minor": 4
}
